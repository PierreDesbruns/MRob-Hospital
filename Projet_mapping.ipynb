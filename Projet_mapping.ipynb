{
 "cells": [
  {
   "cell_type": "code",
   "execution_count": 1,
   "metadata": {},
   "outputs": [],
   "source": [
    "import numpy as np\n",
    "import cv2 as cv\n",
    "import matplotlib.pyplot as plt"
   ]
  },
  {
   "cell_type": "markdown",
   "metadata": {},
   "source": [
    "## MAP 2D TEST"
   ]
  },
  {
   "cell_type": "code",
   "execution_count": 2,
   "metadata": {},
   "outputs": [
    {
     "data": {
      "image/png": "[encoded data removed]",
      "text/plain": [
       "<Figure size 640x480 with 1 Axes>"
      ]
     },
     "metadata": {},
     "output_type": "display_data"
    }
   ],
   "source": [
    "class Map2D:\n",
    "    def __init__(self, width, height):\n",
    "        self.width = width\n",
    "        self.height = height\n",
    "        self.grid = np.zeros((height, width))\n",
    "\n",
    "    def set_obstacle(self, x, y):\n",
    "        if 0 <= x < self.width and 0 <= y < self.height:\n",
    "            self.grid[y][x] = 1\n",
    "        else:\n",
    "            raise ValueError(\"Coordinates out of bounds\")\n",
    "\n",
    "    def display(self):\n",
    "        plt.imshow(self.grid, cmap='binary', interpolation='nearest')\n",
    "        plt.xticks(np.arange(0, self.width, 1))\n",
    "        plt.yticks(np.arange(0, self.height, 1))\n",
    "        plt.grid(color='k', linewidth=1)\n",
    "        plt.show()\n",
    "\n",
    "\n",
    "# Exemple d'utilisation :\n",
    "map_grid = Map2D(10, 10)\n",
    "\n",
    "# Définir des obstacles\n",
    "map_grid.set_obstacle(2, 3)\n",
    "map_grid.set_obstacle(2, 2)\n",
    "map_grid.set_obstacle(2, 4)\n",
    "map_grid.set_obstacle(2, 5)\n",
    "map_grid.set_obstacle(5, 7)\n",
    "map_grid.set_obstacle(6, 6)\n",
    "map_grid.set_obstacle(6, 1)\n",
    "map_grid.set_obstacle(5, 6)\n",
    "map_grid.set_obstacle(7, 5)\n",
    "map_grid.set_obstacle(7, 6)\n",
    "map_grid.set_obstacle(8, 1)\n",
    "map_grid.set_obstacle(7, 1)\n",
    "map_grid.set_obstacle(1, 8)\n",
    "\n",
    "# Afficher la carte\n",
    "map_grid.display()"
   ]
  },
  {
   "cell_type": "markdown",
   "metadata": {},
   "source": [
    "## MAP 3D à partir d'images\n"
   ]
  },
  {
   "cell_type": "code",
   "execution_count": 3,
   "metadata": {},
   "outputs": [],
   "source": [
    "import cv2 \n",
    "\n",
    "# Charger les images\n",
    "img1 = cv2.imread('D:/Tchance/ESIREM_2023_2024/Marc_blanchon/Projet/BasCouloir1.jpg')\n",
    "img2 = cv2.imread('D:/Tchance/ESIREM_2023_2024/Marc_blanchon/Projet/BasCouloir3.jpg')\n",
    "\n",
    "# Convertir les images en niveaux de gris\n",
    "gray1 = cv2.cvtColor(img1, cv2.COLOR_BGR2GRAY)\n",
    "gray2 = cv2.cvtColor(img2, cv2.COLOR_BGR2GRAY)\n",
    "\n",
    "# Détecter les points d'intérêt et calculer les descripteurs avec ORB\n",
    "orb = cv2.ORB_create()\n",
    "kp1, des1 = orb.detectAndCompute(gray1, None)\n",
    "kp2, des2 = orb.detectAndCompute(gray2, None)\n",
    "\n",
    "# Effectuer le match des descripteurs\n",
    "bf = cv2.BFMatcher(cv2.NORM_HAMMING, crossCheck=True)\n",
    "matches = bf.match(des1, des2)\n",
    "\n",
    "# Tri des correspondances par distance\n",
    "matches = sorted(matches, key=lambda x: x.distance)\n",
    "\n",
    "# Sélectionner les meilleures correspondances\n",
    "good_matches = matches[:100]\n",
    "\n",
    "# Extraire les points correspondants des deux images\n",
    "src_pts = np.float32([kp1[m.queryIdx].pt for m in good_matches]).reshape(-1, 1, 2)\n",
    "dst_pts = np.float32([kp2[m.trainIdx].pt for m in good_matches]).reshape(-1, 1, 2)\n",
    "\n",
    "# Estimer la matrice d'homographie\n",
    "H, _ = cv2.findHomography(src_pts, dst_pts, cv2.RANSAC, 5.0)\n",
    "\n",
    "# Appliquer la transformation perspective pour aligner les images\n",
    "aligned_img = cv2.warpPerspective(img2, H, (img1.shape[1] + img2.shape[1], img2.shape[0]))\n",
    "aligned_img[:img1.shape[0], :img1.shape[1]] = img1\n",
    "\n",
    "# Afficher l'image alignée\n",
    "cv2.imshow('Aligned Image', aligned_img)\n",
    "cv2.waitKey(0)\n",
    "cv2.destroyAllWindows()"
   ]
  },
  {
   "cell_type": "code",
   "execution_count": null,
   "metadata": {},
   "outputs": [],
   "source": []
  }
 ],
 "metadata": {
  "kernelspec": {
   "display_name": "base",
   "language": "python",
   "name": "python3"
  },
  "language_info": {
   "codemirror_mode": {
    "name": "ipython",
    "version": 3
   },
   "file_extension": ".py",
   "mimetype": "text/x-python",
   "name": "python",
   "nbconvert_exporter": "python",
   "pygments_lexer": "ipython3",
   "version": "3.11.5"
  }
 },
 "nbformat": 4,
 "nbformat_minor": 2
}
